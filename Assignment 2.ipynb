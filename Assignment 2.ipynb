{
 "cells": [
  {
   "cell_type": "code",
   "execution_count": 20,
   "id": "12b5061c-74aa-456e-aa6e-11dce77ca769",
   "metadata": {},
   "outputs": [
    {
     "name": "stdin",
     "output_type": "stream",
     "text": [
      "enter the percentage -2394\n"
     ]
    },
    {
     "name": "stdout",
     "output_type": "stream",
     "text": [
      "D GRADE\n"
     ]
    }
   ],
   "source": [
    "#Assignment 2\n",
    "#Ans 1\n",
    "percentage=int(input(\"enter the percentage\"))\n",
    "if percentage>90:\n",
    "    print(\"A GRADE\")\n",
    "elif percentage<=90 and percentage>80:\n",
    "    print(\"B GRADE\")\n",
    "elif percentage<=80 and percentage>=60:\n",
    "    print(\"C GRADE\")\n",
    "else:\n",
    "    print(\"D GRADE\")"
   ]
  },
  {
   "cell_type": "code",
   "execution_count": 41,
   "id": "624bf177-8667-4195-9b6b-dd4fc0ccd86e",
   "metadata": {},
   "outputs": [
    {
     "name": "stdin",
     "output_type": "stream",
     "text": [
      "enter the cost price(in rs) of bike 345\n"
     ]
    },
    {
     "name": "stdout",
     "output_type": "stream",
     "text": [
      "road tax will be 5%\n"
     ]
    }
   ],
   "source": [
    "#Ans 2\n",
    "cost_price=int(input(\"enter the cost price(in rs) of bike\"))\n",
    "if cost_price>100000:\n",
    "    print(\"road tax will be 15%\")\n",
    "elif cost_price<=100000 and cost_price>50000:\n",
    "    print(\"road tax will be 10%\")\n",
    "else:\n",
    "    print(\"road tax will be 5%\")"
   ]
  },
  {
   "cell_type": "code",
   "execution_count": 31,
   "id": "5275ad15-b013-4ce6-b8d2-5f1220dec3c0",
   "metadata": {},
   "outputs": [
    {
     "name": "stdin",
     "output_type": "stream",
     "text": [
      "enter the name of city surat\n"
     ]
    },
    {
     "name": "stdout",
     "output_type": "stream",
     "text": [
      "enter the correct city name\n"
     ]
    }
   ],
   "source": [
    "#Ans 3\n",
    "city=input(\"enter the name of city\")\n",
    "if city==\"delhi\":\n",
    "    print(\"Munument:Red Fort\")\n",
    "elif city==\"agra\":\n",
    "    print(\"Monument:Taj Mahal\")\n",
    "elif city==\"jaipur\":\n",
    "    print(\"Monument:Taj Mahal\")\n",
    "else:\n",
    "    print(\"enter the correct city name\")"
   ]
  },
  {
   "cell_type": "code",
   "execution_count": null,
   "id": "7214ca1a-c0af-4bbb-a916-249d50966b90",
   "metadata": {},
   "outputs": [],
   "source": [
    "#Ans 4\n",
    "n=int(input(\"enter the number\"))\n",
    "l=[]\n",
    "for i in range(11,n):\n",
    "    if i%3==0:\n",
    "        l.append(i)\n",
    "len(l)\n",
    "        "
   ]
  },
  {
   "cell_type": "code",
   "execution_count": 15,
   "id": "9e35e9ef-927f-49d0-8d76-d84bb2612464",
   "metadata": {},
   "outputs": [
    {
     "name": "stdout",
     "output_type": "stream",
     "text": [
      "\n",
      "*\n",
      "**\n",
      "***\n",
      "****\n"
     ]
    }
   ],
   "source": [
    "#Ans 5\n",
    "\"\"\"while loop is used when we dont know how much times the code to be ittirated, we only the condition and unless the \n",
    "condition is true the code will be executed.\"\"\"\n",
    "#while loop is used when the range is not given\n",
    "i=0\n",
    "while i<5:\n",
    "    print(i *\"*\")\n",
    "    i+=1"
   ]
  },
  {
   "cell_type": "code",
   "execution_count": 20,
   "id": "44a4dbd5-f53e-4972-9cb9-44e623deaf16",
   "metadata": {},
   "outputs": [
    {
     "name": "stdout",
     "output_type": "stream",
     "text": [
      "1\n",
      "11\n",
      "111\n",
      "1111\n",
      "\n",
      "1111\n",
      "111\n",
      "11\n",
      "1\n",
      "\n",
      "1\n",
      "23\n",
      "345\n",
      "4567\n"
     ]
    }
   ],
   "source": [
    "#Ans 6\n",
    "#1\n",
    "i=0\n",
    "while i<1:\n",
    "    j=1\n",
    "    while j<5:\n",
    "        print(j*\"1\")\n",
    "        j+=1\n",
    "    i+=1\n",
    "    print()\n",
    "#2\n",
    "i=0\n",
    "while i<1:\n",
    "    j=4\n",
    "    while j>0:\n",
    "        print(j*\"1\")\n",
    "        j-=1\n",
    "    i+=1\n",
    "    print()\n",
    "#3\n",
    "i=1\n",
    "while i<5:\n",
    "    j=0\n",
    "    while j<i:\n",
    "        print(j+i,end=\"\")\n",
    "        \n",
    "        j+=1\n",
    "    i+=1\n",
    "    print()\n",
    "\n",
    "        "
   ]
  },
  {
   "cell_type": "code",
   "execution_count": 19,
   "id": "c033c83e-4aca-4196-98df-9623a7b809c4",
   "metadata": {},
   "outputs": [
    {
     "name": "stdout",
     "output_type": "stream",
     "text": [
      "10\n",
      "9\n",
      "8\n",
      "7\n",
      "6\n",
      "5\n",
      "4\n",
      "3\n",
      "2\n",
      "1\n",
      "\n"
     ]
    }
   ],
   "source": [
    "#Ans 7\n",
    "i=10\n",
    "while i>=1:\n",
    "    print(i)\n",
    "    i-=1\n",
    "print()"
   ]
  },
  {
   "cell_type": "code",
   "execution_count": 21,
   "id": "eb212ca5-151d-47ff-893e-45666eef1111",
   "metadata": {},
   "outputs": [
    {
     "name": "stdout",
     "output_type": "stream",
     "text": [
      "10\n",
      "9\n",
      "8\n",
      "7\n",
      "6\n",
      "5\n",
      "4\n",
      "3\n",
      "2\n",
      "1\n",
      "\n"
     ]
    }
   ],
   "source": [
    "#Ans 8\n",
    "i=10\n",
    "while i>=1:\n",
    "    print(i)\n",
    "    i-=1\n",
    "print()"
   ]
  },
  {
   "cell_type": "code",
   "execution_count": null,
   "id": "461770c9-3afa-490d-8995-02965b4ea59f",
   "metadata": {},
   "outputs": [],
   "source": []
  }
 ],
 "metadata": {
  "kernelspec": {
   "display_name": "Python 3 (ipykernel)",
   "language": "python",
   "name": "python3"
  },
  "language_info": {
   "codemirror_mode": {
    "name": "ipython",
    "version": 3
   },
   "file_extension": ".py",
   "mimetype": "text/x-python",
   "name": "python",
   "nbconvert_exporter": "python",
   "pygments_lexer": "ipython3",
   "version": "3.10.8"
  }
 },
 "nbformat": 4,
 "nbformat_minor": 5
}
