{
 "cells": [
  {
   "cell_type": "code",
   "execution_count": null,
   "id": "0cada42c-4388-4e67-86fa-fe4b98790f69",
   "metadata": {},
   "outputs": [],
   "source": [
    "1.Who developed python programming language?\n",
    "Ans:Guido Van Rossum"
   ]
  },
  {
   "cell_type": "code",
   "execution_count": null,
   "id": "07d752d8-fc09-488c-abbb-59a9357b6fac",
   "metadata": {},
   "outputs": [],
   "source": [
    "2.Which type of programming does python support?\n",
    "Ans:object-oriented, structured, and functional programming"
   ]
  },
  {
   "cell_type": "code",
   "execution_count": null,
   "id": "e156fb62-5ea9-46af-85f9-2fb72bb6a3c6",
   "metadata": {},
   "outputs": [],
   "source": [
    "3.Is python case sensitive when dealing with identifiers?\n",
    "Ans:Yes"
   ]
  },
  {
   "cell_type": "code",
   "execution_count": null,
   "id": "c8eb0cdc-ebc7-41b1-be11-982575278c85",
   "metadata": {},
   "outputs": [],
   "source": [
    "4.What is the correct extension of python file?\n",
    "Ans:.py"
   ]
  },
  {
   "cell_type": "code",
   "execution_count": null,
   "id": "aae7788d-a92d-4d38-ae98-096cb912558c",
   "metadata": {},
   "outputs": [],
   "source": [
    "5.Is python code compiled or interpreted?\n",
    "Ans:Interpreted"
   ]
  },
  {
   "cell_type": "code",
   "execution_count": null,
   "id": "fa9beba0-49d3-4c89-8442-992d1b2afceb",
   "metadata": {},
   "outputs": [],
   "source": [
    "6.Name a few blocks of code used to define in python language?\n",
    "Ans:A module, a function body and a class definition."
   ]
  },
  {
   "cell_type": "code",
   "execution_count": null,
   "id": "f65f82b1-0428-4a81-84f6-b8296fdecaf3",
   "metadata": {},
   "outputs": [],
   "source": [
    "7.State a character used to give single-line comments in python?\n",
    "Ans:#"
   ]
  },
  {
   "cell_type": "code",
   "execution_count": null,
   "id": "fc8f86e6-cbd2-42ea-844c-18aadaa79d68",
   "metadata": {},
   "outputs": [],
   "source": [
    "8.Mention functions which can help us to find the version of python that we are currently working on?\n",
    "Ans:sys.version"
   ]
  },
  {
   "cell_type": "code",
   "execution_count": null,
   "id": "7a940f2c-6a87-4002-9395-3fe01df36589",
   "metadata": {},
   "outputs": [],
   "source": [
    "9.Python supports the creation of anonymous function at runtime, using a construct called\n",
    "Ans:lambda"
   ]
  },
  {
   "cell_type": "code",
   "execution_count": null,
   "id": "db3ee283-deab-4c95-8f00-f0a54629f621",
   "metadata": {},
   "outputs": [],
   "source": [
    "10.What does pip stands for?\n",
    "Ans:Preferred installer program"
   ]
  },
  {
   "cell_type": "code",
   "execution_count": null,
   "id": "1e20a007-6a5f-4ff2-9a05-48b302e88305",
   "metadata": {},
   "outputs": [],
   "source": [
    "11.Mention a few built-in functions in python?\n",
    "Ans:bool(),abs(),chr(),complex(),list(),dict(),float(),len(),sum(),print(),set()"
   ]
  },
  {
   "cell_type": "code",
   "execution_count": null,
   "id": "d6fcca38-0975-4e78-98b1-80d7f2eca54f",
   "metadata": {},
   "outputs": [],
   "source": [
    "12.What is the maximum possible lenth of an identifier in python?\n",
    "Ans:79"
   ]
  },
  {
   "cell_type": "code",
   "execution_count": null,
   "id": "27949cdf-f11a-442e-8b0c-413f8fcac0fc",
   "metadata": {},
   "outputs": [],
   "source": [
    "13.What are the benifits of using python?\n",
    "Ans:\n",
    "in data science\n",
    "scientific and mathematic computation\n",
    "web development\n",
    "game development"
   ]
  },
  {
   "cell_type": "code",
   "execution_count": null,
   "id": "8a8d8181-f53d-4caf-923e-06e75f03e4a5",
   "metadata": {},
   "outputs": [],
   "source": [
    "14.How is memory managed in python?\n",
    "Ans:Memory managed in python involves a private heap containing all pyhton objects and data structures."
   ]
  },
  {
   "cell_type": "code",
   "execution_count": null,
   "id": "e6a61ccf-7919-4c1e-ac79-26c03fad4322",
   "metadata": {},
   "outputs": [],
   "source": [
    "15.How to install python in window and set path variables?\n",
    "Ans:\n",
    "To install python:\n",
    "Step 1: Download the Python Installer binaries.\n",
    "Step 2: Run the Executable Installer. \n",
    "Step 3: Add Python to environmental variables.\n",
    "Step 4: Verify the Python Installation.\n",
    "\n",
    "To set path variable:\n",
    "1.Right-clicking This PC and going to Properties.\n",
    "2.Clicking on the Advanced system settings in the menu on the left.\n",
    "3.Clicking on the Environment Variables button on the bottom right.\n",
    "4.In the System variables section, selecting the Path variable and clicking on Edit. The next screen will show all the directories that are currently a part of the path variable.\n",
    "5.Clicking on New and entering Python’s install directory."
   ]
  },
  {
   "cell_type": "code",
   "execution_count": null,
   "id": "bb365a14-569f-4985-b1f2-f6773c055b8a",
   "metadata": {},
   "outputs": [],
   "source": [
    "16.Is indentation required in python?\n",
    "Ans:Yes"
   ]
  }
 ],
 "metadata": {
  "kernelspec": {
   "display_name": "Python 3 (ipykernel)",
   "language": "python",
   "name": "python3"
  },
  "language_info": {
   "codemirror_mode": {
    "name": "ipython",
    "version": 3
   },
   "file_extension": ".py",
   "mimetype": "text/x-python",
   "name": "python",
   "nbconvert_exporter": "python",
   "pygments_lexer": "ipython3",
   "version": "3.10.8"
  }
 },
 "nbformat": 4,
 "nbformat_minor": 5
}
