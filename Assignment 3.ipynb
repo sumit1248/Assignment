{
 "cells": [
  {
   "cell_type": "code",
   "execution_count": 10,
   "id": "9486a304-746b-4da1-9bda-af39c0cd48d6",
   "metadata": {},
   "outputs": [
    {
     "name": "stdout",
     "output_type": "stream",
     "text": [
      "0\n",
      "1\n",
      "2\n",
      "3\n",
      "4\n",
      "\n",
      "0\n",
      "1\n",
      "2\n",
      "3\n",
      "4\n"
     ]
    }
   ],
   "source": [
    "#Ans 1\n",
    "#for loop:here we know the range \n",
    "for i in range(5):\n",
    "    print(i)\n",
    "print()\n",
    "#while loop:here the loop will execute until the condition become false\n",
    "j=0\n",
    "while j<5:\n",
    "    print(j)\n",
    "    j+=1"
   ]
  },
  {
   "cell_type": "code",
   "execution_count": 8,
   "id": "9243e3c1-f584-4b1e-854c-d6e229827cb8",
   "metadata": {},
   "outputs": [
    {
     "name": "stdout",
     "output_type": "stream",
     "text": [
      "55\n",
      "3628800\n",
      "55\n",
      "3628800\n"
     ]
    }
   ],
   "source": [
    "#Ans 2 sum and product using for loop\n",
    "sum=0\n",
    "for i in range(1,11):\n",
    "    sum+=i\n",
    "print(sum)\n",
    "    \n",
    "product=1\n",
    "for i in range(1,11):\n",
    "    product*=i\n",
    "print(product)\n",
    "\n",
    "#Ans 2 sum and product using while loop\n",
    "result=0\n",
    "i=1\n",
    "while i<11:\n",
    "    result+=i\n",
    "    i+=1\n",
    "print(result)\n",
    "\n",
    "product=1\n",
    "i=1\n",
    "while i<11:\n",
    "    product*=i\n",
    "    i+=1\n",
    "print(product)\n",
    "    "
   ]
  },
  {
   "cell_type": "code",
   "execution_count": 2,
   "id": "18b7a03a-7cad-4e2a-9dbb-ffff5e1ee6ee",
   "metadata": {},
   "outputs": [
    {
     "name": "stdin",
     "output_type": "stream",
     "text": [
      "enter the unit get 310\n"
     ]
    },
    {
     "name": "stdout",
     "output_type": "stream",
     "text": [
      "2250.0\n"
     ]
    }
   ],
   "source": [
    "#Ans 3 \n",
    "a=0\n",
    "b=0\n",
    "c=0\n",
    "d=0\n",
    "i=1\n",
    "unit=int(input(\"enter the unit get\"))\n",
    "if unit<=100:\n",
    "    a=4.5*unit\n",
    "elif unit>100 and unit<=200:\n",
    "    b=(6*unit)-(6*100)+(4.5*100)\n",
    "elif unit>200 and unit<=300:\n",
    "    b=10*unit-(10*200)+(6*100)+(4.5*100)\n",
    "elif unit>300:\n",
    "    d=20*unit-(20*300)+(10*100)+(6*100)+(4.5*100)\n",
    "print(a+b+c+d)"
   ]
  },
  {
   "cell_type": "code",
   "execution_count": 3,
   "id": "1555d83c-6742-425d-ba48-d197ff28cbe5",
   "metadata": {},
   "outputs": [
    {
     "name": "stdout",
     "output_type": "stream",
     "text": [
      "[2, 4, 5, 6, 8, 10, 12, 14, 15, 16, 18, 20, 22, 24, 25, 26, 28, 30, 32, 34, 35, 36, 38, 40, 42, 44, 45, 46, 48, 50, 52, 54, 55, 56, 58, 60, 62, 64, 65, 66, 68, 70, 72, 74, 75, 76, 78, 80, 82, 84, 85, 86, 88, 90, 92, 94, 95, 96, 98, 100]\n"
     ]
    }
   ],
   "source": [
    "#Ans 4\n",
    "a=[]\n",
    "for i in range(1,101):\n",
    "    if i**3%4==0 or i**3%5==0:\n",
    "        a.append(i)\n",
    "print(a)"
   ]
  },
  {
   "cell_type": "code",
   "execution_count": 2,
   "id": "5261306e-9fea-4808-9470-fbe6c5c589d7",
   "metadata": {},
   "outputs": [
    {
     "data": {
      "text/plain": [
       "12"
      ]
     },
     "execution_count": 2,
     "metadata": {},
     "output_type": "execute_result"
    }
   ],
   "source": [
    "#Ans 5\n",
    "str=\"I  want to become a data scientist\"\n",
    "vowel=0\n",
    "for i in str:\n",
    "    if i==\"a\" or i==\"e\" or i==\"i\" or i==\"o\" or i==\"u\" or i==\"A\" or i==\"E\" or i==\"I\" or i==\"O\" or i==\"U\":\n",
    "        vowel+=1\n",
    "vowel"
   ]
  }
 ],
 "metadata": {
  "kernelspec": {
   "display_name": "Python 3 (ipykernel)",
   "language": "python",
   "name": "python3"
  },
  "language_info": {
   "codemirror_mode": {
    "name": "ipython",
    "version": 3
   },
   "file_extension": ".py",
   "mimetype": "text/x-python",
   "name": "python",
   "nbconvert_exporter": "python",
   "pygments_lexer": "ipython3",
   "version": "3.10.8"
  }
 },
 "nbformat": 4,
 "nbformat_minor": 5
}
